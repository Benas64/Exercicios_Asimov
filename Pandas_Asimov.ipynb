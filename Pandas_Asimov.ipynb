{
 "cells": [
  {
   "cell_type": "code",
   "execution_count": 1,
   "metadata": {},
   "outputs": [],
   "source": [
    "import pandas as pd\n",
    "import numpy as np"
   ]
  },
  {
   "cell_type": "code",
   "execution_count": 2,
   "metadata": {},
   "outputs": [
    {
     "data": {
      "text/plain": [
       "0    a\n",
       "1    b\n",
       "2    c\n",
       "dtype: object"
      ]
     },
     "execution_count": 2,
     "metadata": {},
     "output_type": "execute_result"
    }
   ],
   "source": [
    "labels=['a','b','c']\n",
    "minha_lista=[10,20,30]\n",
    "arr=np.array([10,20,30])\n",
    "d={'a':10,'b':20,'c':30}\n",
    "\n",
    "pd.Series(labels)\n"
   ]
  },
  {
   "cell_type": "code",
   "execution_count": 3,
   "metadata": {},
   "outputs": [
    {
     "data": {
      "text/plain": [
       "0    10\n",
       "1    20\n",
       "2    30\n",
       "dtype: int64"
      ]
     },
     "execution_count": 3,
     "metadata": {},
     "output_type": "execute_result"
    }
   ],
   "source": [
    "pd.Series(arr)"
   ]
  },
  {
   "cell_type": "code",
   "execution_count": 4,
   "metadata": {},
   "outputs": [
    {
     "data": {
      "text/plain": [
       "a    10\n",
       "b    20\n",
       "c    30\n",
       "dtype: int64"
      ]
     },
     "execution_count": 4,
     "metadata": {},
     "output_type": "execute_result"
    }
   ],
   "source": [
    "pd.Series(data=minha_lista,index=labels)"
   ]
  },
  {
   "cell_type": "code",
   "execution_count": 5,
   "metadata": {},
   "outputs": [
    {
     "data": {
      "text/plain": [
       "a    10\n",
       "b    20\n",
       "c    30\n",
       "dtype: int64"
      ]
     },
     "execution_count": 5,
     "metadata": {},
     "output_type": "execute_result"
    }
   ],
   "source": [
    "pd.Series(d)"
   ]
  },
  {
   "cell_type": "code",
   "execution_count": 8,
   "metadata": {},
   "outputs": [
    {
     "data": {
      "text/plain": [
       "Noroeste      1\n",
       "Trocaphone    2\n",
       "Rei_Iphone    3\n",
       "dtype: int64"
      ]
     },
     "execution_count": 8,
     "metadata": {},
     "output_type": "execute_result"
    }
   ],
   "source": [
    "raking_clientes=pd.Series(data=[1,2,3],index=['Noroeste','Trocaphone','Rei_Iphone'])\n",
    "raking_clientes"
   ]
  },
  {
   "cell_type": "code",
   "execution_count": 9,
   "metadata": {},
   "outputs": [
    {
     "data": {
      "text/plain": [
       "1"
      ]
     },
     "execution_count": 9,
     "metadata": {},
     "output_type": "execute_result"
    }
   ],
   "source": [
    "raking_clientes['Noroeste']"
   ]
  },
  {
   "cell_type": "code",
   "execution_count": 11,
   "metadata": {},
   "outputs": [
    {
     "data": {
      "text/plain": [
       "1"
      ]
     },
     "execution_count": 11,
     "metadata": {},
     "output_type": "execute_result"
    }
   ],
   "source": [
    "raking_clientes[0]"
   ]
  },
  {
   "cell_type": "code",
   "execution_count": 12,
   "metadata": {},
   "outputs": [
    {
     "data": {
      "text/plain": [
       "Noroeste      4\n",
       "Çhiquinho     5\n",
       "Rei_Iphone    6\n",
       "dtype: int64"
      ]
     },
     "execution_count": 12,
     "metadata": {},
     "output_type": "execute_result"
    }
   ],
   "source": [
    "raking_clientes2= pd.Series(data=[4,5,6],index=['Noroeste','Çhiquinho','Rei_Iphone'])\n",
    "raking_clientes2"
   ]
  },
  {
   "cell_type": "code",
   "execution_count": 13,
   "metadata": {},
   "outputs": [
    {
     "data": {
      "text/plain": [
       "Noroeste      5.0\n",
       "Rei_Iphone    9.0\n",
       "Trocaphone    NaN\n",
       "Çhiquinho     NaN\n",
       "dtype: float64"
      ]
     },
     "execution_count": 13,
     "metadata": {},
     "output_type": "execute_result"
    }
   ],
   "source": [
    "raking_clientes + raking_clientes2"
   ]
  },
  {
   "cell_type": "code",
   "execution_count": 15,
   "metadata": {},
   "outputs": [
    {
     "data": {
      "text/html": [
       "<div>\n",
       "<style scoped>\n",
       "    .dataframe tbody tr th:only-of-type {\n",
       "        vertical-align: middle;\n",
       "    }\n",
       "\n",
       "    .dataframe tbody tr th {\n",
       "        vertical-align: top;\n",
       "    }\n",
       "\n",
       "    .dataframe thead th {\n",
       "        text-align: right;\n",
       "    }\n",
       "</style>\n",
       "<table border=\"1\" class=\"dataframe\">\n",
       "  <thead>\n",
       "    <tr style=\"text-align: right;\">\n",
       "      <th></th>\n",
       "      <th>JULHO</th>\n",
       "      <th>AGOSTO</th>\n",
       "      <th>SETEMBRO</th>\n",
       "      <th>OUTUBRO</th>\n",
       "    </tr>\n",
       "  </thead>\n",
       "  <tbody>\n",
       "    <tr>\n",
       "      <th>Noroeste</th>\n",
       "      <td>2.111591</td>\n",
       "      <td>0.235978</td>\n",
       "      <td>-0.505377</td>\n",
       "      <td>-1.540103</td>\n",
       "    </tr>\n",
       "    <tr>\n",
       "      <th>Rei_Iphone</th>\n",
       "      <td>-1.690921</td>\n",
       "      <td>-1.179944</td>\n",
       "      <td>-0.556283</td>\n",
       "      <td>1.893499</td>\n",
       "    </tr>\n",
       "    <tr>\n",
       "      <th>TrocaPhone</th>\n",
       "      <td>0.258231</td>\n",
       "      <td>-0.207790</td>\n",
       "      <td>0.619862</td>\n",
       "      <td>-0.750252</td>\n",
       "    </tr>\n",
       "    <tr>\n",
       "      <th>Loja40</th>\n",
       "      <td>0.032190</td>\n",
       "      <td>-0.109112</td>\n",
       "      <td>-0.847166</td>\n",
       "      <td>-0.934957</td>\n",
       "    </tr>\n",
       "    <tr>\n",
       "      <th>Luar</th>\n",
       "      <td>-0.914045</td>\n",
       "      <td>-0.905614</td>\n",
       "      <td>-1.489354</td>\n",
       "      <td>0.010706</td>\n",
       "    </tr>\n",
       "  </tbody>\n",
       "</table>\n",
       "</div>"
      ],
      "text/plain": [
       "               JULHO    AGOSTO  SETEMBRO   OUTUBRO\n",
       "Noroeste    2.111591  0.235978 -0.505377 -1.540103\n",
       "Rei_Iphone -1.690921 -1.179944 -0.556283  1.893499\n",
       "TrocaPhone  0.258231 -0.207790  0.619862 -0.750252\n",
       "Loja40      0.032190 -0.109112 -0.847166 -0.934957\n",
       "Luar       -0.914045 -0.905614 -1.489354  0.010706"
      ]
     },
     "execution_count": 15,
     "metadata": {},
     "output_type": "execute_result"
    }
   ],
   "source": [
    "from numpy.random import randn\n",
    "df= pd.DataFrame(randn(5,4),index=[ 'Noroeste','Rei_Iphone','TrocaPhone','Loja40','Luar'],columns=\"JULHO AGOSTO SETEMBRO OUTUBRO\".split())\n",
    "df"
   ]
  },
  {
   "cell_type": "code",
   "execution_count": 16,
   "metadata": {},
   "outputs": [
    {
     "data": {
      "text/plain": [
       "pandas.core.frame.DataFrame"
      ]
     },
     "execution_count": 16,
     "metadata": {},
     "output_type": "execute_result"
    }
   ],
   "source": [
    "type(df)"
   ]
  }
 ],
 "metadata": {
  "kernelspec": {
   "display_name": "Python 3",
   "language": "python",
   "name": "python3"
  },
  "language_info": {
   "codemirror_mode": {
    "name": "ipython",
    "version": 3
   },
   "file_extension": ".py",
   "mimetype": "text/x-python",
   "name": "python",
   "nbconvert_exporter": "python",
   "pygments_lexer": "ipython3",
   "version": "3.11.2"
  },
  "orig_nbformat": 4,
  "vscode": {
   "interpreter": {
    "hash": "aee8b7b246df8f9039afb4144a1f6fd8d2ca17a180786b69acc140d282b71a49"
   }
  }
 },
 "nbformat": 4,
 "nbformat_minor": 2
}
