{
 "cells": [
  {
   "cell_type": "code",
   "execution_count": 2,
   "metadata": {},
   "outputs": [],
   "source": [
    "import pandas as pd\n",
    "import numpy as np"
   ]
  },
  {
   "cell_type": "code",
   "execution_count": 3,
   "metadata": {},
   "outputs": [
    {
     "data": {
      "text/plain": [
       "0    a\n",
       "1    b\n",
       "2    c\n",
       "dtype: object"
      ]
     },
     "execution_count": 3,
     "metadata": {},
     "output_type": "execute_result"
    }
   ],
   "source": [
    "labels=['a','b','c']\n",
    "minha_lista=[10,20,30]\n",
    "arr=np.array([10,20,30])\n",
    "d={'a':10,'b':20,'c':30}\n",
    "\n",
    "pd.Series(labels)\n"
   ]
  },
  {
   "cell_type": "code",
   "execution_count": 4,
   "metadata": {},
   "outputs": [
    {
     "data": {
      "text/plain": [
       "0    10\n",
       "1    20\n",
       "2    30\n",
       "dtype: int64"
      ]
     },
     "execution_count": 4,
     "metadata": {},
     "output_type": "execute_result"
    }
   ],
   "source": [
    "pd.Series(arr)"
   ]
  },
  {
   "cell_type": "code",
   "execution_count": 5,
   "metadata": {},
   "outputs": [
    {
     "data": {
      "text/plain": [
       "a    10\n",
       "b    20\n",
       "c    30\n",
       "dtype: int64"
      ]
     },
     "execution_count": 5,
     "metadata": {},
     "output_type": "execute_result"
    }
   ],
   "source": [
    "pd.Series(data=minha_lista,index=labels)"
   ]
  },
  {
   "cell_type": "code",
   "execution_count": 6,
   "metadata": {},
   "outputs": [
    {
     "data": {
      "text/plain": [
       "a    10\n",
       "b    20\n",
       "c    30\n",
       "dtype: int64"
      ]
     },
     "execution_count": 6,
     "metadata": {},
     "output_type": "execute_result"
    }
   ],
   "source": [
    "pd.Series(d)"
   ]
  },
  {
   "cell_type": "code",
   "execution_count": 7,
   "metadata": {},
   "outputs": [
    {
     "data": {
      "text/plain": [
       "Noroeste      1\n",
       "Trocaphone    2\n",
       "Rei_Iphone    3\n",
       "dtype: int64"
      ]
     },
     "execution_count": 7,
     "metadata": {},
     "output_type": "execute_result"
    }
   ],
   "source": [
    "raking_clientes=pd.Series(data=[1,2,3],index=['Noroeste','Trocaphone','Rei_Iphone'])\n",
    "raking_clientes"
   ]
  },
  {
   "cell_type": "code",
   "execution_count": 8,
   "metadata": {},
   "outputs": [
    {
     "data": {
      "text/plain": [
       "1"
      ]
     },
     "execution_count": 8,
     "metadata": {},
     "output_type": "execute_result"
    }
   ],
   "source": [
    "raking_clientes['Noroeste']"
   ]
  },
  {
   "cell_type": "code",
   "execution_count": 9,
   "metadata": {},
   "outputs": [
    {
     "data": {
      "text/plain": [
       "1"
      ]
     },
     "execution_count": 9,
     "metadata": {},
     "output_type": "execute_result"
    }
   ],
   "source": [
    "raking_clientes[0]"
   ]
  },
  {
   "cell_type": "code",
   "execution_count": 10,
   "metadata": {},
   "outputs": [
    {
     "data": {
      "text/plain": [
       "Noroeste      4\n",
       "Çhiquinho     5\n",
       "Rei_Iphone    6\n",
       "dtype: int64"
      ]
     },
     "execution_count": 10,
     "metadata": {},
     "output_type": "execute_result"
    }
   ],
   "source": [
    "raking_clientes2= pd.Series(data=[4,5,6],index=['Noroeste','Çhiquinho','Rei_Iphone'])\n",
    "raking_clientes2"
   ]
  },
  {
   "cell_type": "code",
   "execution_count": 11,
   "metadata": {},
   "outputs": [
    {
     "data": {
      "text/plain": [
       "Noroeste      5.0\n",
       "Rei_Iphone    9.0\n",
       "Trocaphone    NaN\n",
       "Çhiquinho     NaN\n",
       "dtype: float64"
      ]
     },
     "execution_count": 11,
     "metadata": {},
     "output_type": "execute_result"
    }
   ],
   "source": [
    "raking_clientes + raking_clientes2"
   ]
  },
  {
   "cell_type": "code",
   "execution_count": 12,
   "metadata": {},
   "outputs": [
    {
     "data": {
      "text/html": [
       "<div>\n",
       "<style scoped>\n",
       "    .dataframe tbody tr th:only-of-type {\n",
       "        vertical-align: middle;\n",
       "    }\n",
       "\n",
       "    .dataframe tbody tr th {\n",
       "        vertical-align: top;\n",
       "    }\n",
       "\n",
       "    .dataframe thead th {\n",
       "        text-align: right;\n",
       "    }\n",
       "</style>\n",
       "<table border=\"1\" class=\"dataframe\">\n",
       "  <thead>\n",
       "    <tr style=\"text-align: right;\">\n",
       "      <th></th>\n",
       "      <th>JULHO</th>\n",
       "      <th>AGOSTO</th>\n",
       "      <th>SETEMBRO</th>\n",
       "      <th>OUTUBRO</th>\n",
       "    </tr>\n",
       "  </thead>\n",
       "  <tbody>\n",
       "    <tr>\n",
       "      <th>Noroeste</th>\n",
       "      <td>-0.716180</td>\n",
       "      <td>0.437667</td>\n",
       "      <td>-1.277419</td>\n",
       "      <td>0.067103</td>\n",
       "    </tr>\n",
       "    <tr>\n",
       "      <th>Rei_Iphone</th>\n",
       "      <td>0.784639</td>\n",
       "      <td>-0.381684</td>\n",
       "      <td>-0.343483</td>\n",
       "      <td>0.926336</td>\n",
       "    </tr>\n",
       "    <tr>\n",
       "      <th>TrocaPhone</th>\n",
       "      <td>1.753127</td>\n",
       "      <td>-0.742536</td>\n",
       "      <td>1.589957</td>\n",
       "      <td>0.361318</td>\n",
       "    </tr>\n",
       "    <tr>\n",
       "      <th>Loja40</th>\n",
       "      <td>-0.489876</td>\n",
       "      <td>0.792570</td>\n",
       "      <td>0.714170</td>\n",
       "      <td>0.025384</td>\n",
       "    </tr>\n",
       "    <tr>\n",
       "      <th>Luar</th>\n",
       "      <td>-1.567136</td>\n",
       "      <td>0.272812</td>\n",
       "      <td>-0.231119</td>\n",
       "      <td>-1.204925</td>\n",
       "    </tr>\n",
       "  </tbody>\n",
       "</table>\n",
       "</div>"
      ],
      "text/plain": [
       "               JULHO    AGOSTO  SETEMBRO   OUTUBRO\n",
       "Noroeste   -0.716180  0.437667 -1.277419  0.067103\n",
       "Rei_Iphone  0.784639 -0.381684 -0.343483  0.926336\n",
       "TrocaPhone  1.753127 -0.742536  1.589957  0.361318\n",
       "Loja40     -0.489876  0.792570  0.714170  0.025384\n",
       "Luar       -1.567136  0.272812 -0.231119 -1.204925"
      ]
     },
     "execution_count": 12,
     "metadata": {},
     "output_type": "execute_result"
    }
   ],
   "source": [
    "from numpy.random import randn\n",
    "df= pd.DataFrame(randn(5,4),index=[ 'Noroeste','Rei_Iphone','TrocaPhone','Loja40','Luar'],columns=\"JULHO AGOSTO SETEMBRO OUTUBRO\".split())\n",
    "df"
   ]
  },
  {
   "cell_type": "code",
   "execution_count": 13,
   "metadata": {},
   "outputs": [
    {
     "data": {
      "text/plain": [
       "pandas.core.frame.DataFrame"
      ]
     },
     "execution_count": 13,
     "metadata": {},
     "output_type": "execute_result"
    }
   ],
   "source": [
    "type(df)"
   ]
  },
  {
   "cell_type": "code",
   "execution_count": 16,
   "metadata": {},
   "outputs": [
    {
     "data": {
      "text/html": [
       "<div>\n",
       "<style scoped>\n",
       "    .dataframe tbody tr th:only-of-type {\n",
       "        vertical-align: middle;\n",
       "    }\n",
       "\n",
       "    .dataframe tbody tr th {\n",
       "        vertical-align: top;\n",
       "    }\n",
       "\n",
       "    .dataframe thead th {\n",
       "        text-align: right;\n",
       "    }\n",
       "</style>\n",
       "<table border=\"1\" class=\"dataframe\">\n",
       "  <thead>\n",
       "    <tr style=\"text-align: right;\">\n",
       "      <th></th>\n",
       "      <th>JULHO</th>\n",
       "      <th>AGOSTO</th>\n",
       "      <th>SETEMBRO</th>\n",
       "      <th>OUTUBRO</th>\n",
       "    </tr>\n",
       "  </thead>\n",
       "  <tbody>\n",
       "    <tr>\n",
       "      <th>Noroeste</th>\n",
       "      <td>-0.716180</td>\n",
       "      <td>0.437667</td>\n",
       "      <td>-1.277419</td>\n",
       "      <td>0.067103</td>\n",
       "    </tr>\n",
       "    <tr>\n",
       "      <th>Rei_Iphone</th>\n",
       "      <td>0.784639</td>\n",
       "      <td>-0.381684</td>\n",
       "      <td>-0.343483</td>\n",
       "      <td>0.926336</td>\n",
       "    </tr>\n",
       "  </tbody>\n",
       "</table>\n",
       "</div>"
      ],
      "text/plain": [
       "               JULHO    AGOSTO  SETEMBRO   OUTUBRO\n",
       "Noroeste   -0.716180  0.437667 -1.277419  0.067103\n",
       "Rei_Iphone  0.784639 -0.381684 -0.343483  0.926336"
      ]
     },
     "execution_count": 16,
     "metadata": {},
     "output_type": "execute_result"
    }
   ],
   "source": [
    "df.loc[['Noroeste','Rei_Iphone']]"
   ]
  },
  {
   "cell_type": "code",
   "execution_count": 17,
   "metadata": {},
   "outputs": [
    {
     "data": {
      "text/plain": [
       "-1.2774194510556023"
      ]
     },
     "execution_count": 17,
     "metadata": {},
     "output_type": "execute_result"
    }
   ],
   "source": [
    "df.iloc[0,2]"
   ]
  },
  {
   "cell_type": "code",
   "execution_count": 18,
   "metadata": {},
   "outputs": [
    {
     "data": {
      "text/html": [
       "<div>\n",
       "<style scoped>\n",
       "    .dataframe tbody tr th:only-of-type {\n",
       "        vertical-align: middle;\n",
       "    }\n",
       "\n",
       "    .dataframe tbody tr th {\n",
       "        vertical-align: top;\n",
       "    }\n",
       "\n",
       "    .dataframe thead th {\n",
       "        text-align: right;\n",
       "    }\n",
       "</style>\n",
       "<table border=\"1\" class=\"dataframe\">\n",
       "  <thead>\n",
       "    <tr style=\"text-align: right;\">\n",
       "      <th></th>\n",
       "      <th>JULHO</th>\n",
       "      <th>AGOSTO</th>\n",
       "      <th>SETEMBRO</th>\n",
       "      <th>OUTUBRO</th>\n",
       "    </tr>\n",
       "  </thead>\n",
       "  <tbody>\n",
       "    <tr>\n",
       "      <th>Noroeste</th>\n",
       "      <td>False</td>\n",
       "      <td>True</td>\n",
       "      <td>False</td>\n",
       "      <td>True</td>\n",
       "    </tr>\n",
       "    <tr>\n",
       "      <th>Rei_Iphone</th>\n",
       "      <td>True</td>\n",
       "      <td>False</td>\n",
       "      <td>False</td>\n",
       "      <td>True</td>\n",
       "    </tr>\n",
       "    <tr>\n",
       "      <th>TrocaPhone</th>\n",
       "      <td>True</td>\n",
       "      <td>False</td>\n",
       "      <td>True</td>\n",
       "      <td>True</td>\n",
       "    </tr>\n",
       "    <tr>\n",
       "      <th>Loja40</th>\n",
       "      <td>False</td>\n",
       "      <td>True</td>\n",
       "      <td>True</td>\n",
       "      <td>True</td>\n",
       "    </tr>\n",
       "    <tr>\n",
       "      <th>Luar</th>\n",
       "      <td>False</td>\n",
       "      <td>True</td>\n",
       "      <td>False</td>\n",
       "      <td>False</td>\n",
       "    </tr>\n",
       "  </tbody>\n",
       "</table>\n",
       "</div>"
      ],
      "text/plain": [
       "            JULHO  AGOSTO  SETEMBRO  OUTUBRO\n",
       "Noroeste    False    True     False     True\n",
       "Rei_Iphone   True   False     False     True\n",
       "TrocaPhone   True   False      True     True\n",
       "Loja40      False    True      True     True\n",
       "Luar        False    True     False    False"
      ]
     },
     "execution_count": 18,
     "metadata": {},
     "output_type": "execute_result"
    }
   ],
   "source": [
    "df>0"
   ]
  }
 ],
 "metadata": {
  "kernelspec": {
   "display_name": "Python 3",
   "language": "python",
   "name": "python3"
  },
  "language_info": {
   "codemirror_mode": {
    "name": "ipython",
    "version": 3
   },
   "file_extension": ".py",
   "mimetype": "text/x-python",
   "name": "python",
   "nbconvert_exporter": "python",
   "pygments_lexer": "ipython3",
   "version": "3.11.2"
  },
  "orig_nbformat": 4,
  "vscode": {
   "interpreter": {
    "hash": "aee8b7b246df8f9039afb4144a1f6fd8d2ca17a180786b69acc140d282b71a49"
   }
  }
 },
 "nbformat": 4,
 "nbformat_minor": 2
}
